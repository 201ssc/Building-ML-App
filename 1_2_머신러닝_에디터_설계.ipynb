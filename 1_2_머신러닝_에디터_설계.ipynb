{
  "nbformat": 4,
  "nbformat_minor": 0,
  "metadata": {
    "colab": {
      "provenance": [],
      "collapsed_sections": [],
      "authorship_tag": "ABX9TyNr70pnxonwPEI1h6EzhY0L",
      "include_colab_link": true
    },
    "kernelspec": {
      "name": "python3",
      "display_name": "Python 3"
    },
    "language_info": {
      "name": "python"
    }
  },
  "cells": [
    {
      "cell_type": "markdown",
      "metadata": {
        "id": "view-in-github",
        "colab_type": "text"
      },
      "source": [
        "<a href=\"https://colab.research.google.com/github/201ssc/Building-ML-App/blob/main/1_2_%EB%A8%B8%EC%8B%A0%EB%9F%AC%EB%8B%9D_%EC%97%90%EB%94%94%ED%84%B0_%EC%84%A4%EA%B3%84.ipynb\" target=\"_parent\"><img src=\"https://colab.research.google.com/assets/colab-badge.svg\" alt=\"Open In Colab\"/></a>"
      ]
    },
    {
      "cell_type": "markdown",
      "source": [
        "## 1.2 머신러닝 에디터 설계"
      ],
      "metadata": {
        "id": "jiBR9EnAyebr"
      }
    },
    {
      "cell_type": "markdown",
      "source": [
        "### 1.2.1 머신러닝으로 모든 것 처리하기\n",
        "\n",
        "#### 데이터\n",
        "#### 모델\n",
        "#### 응답 속도\n",
        "#### 구현의 용이성"
      ],
      "metadata": {
        "id": "De8PrwtXyyWP"
      }
    },
    {
      "cell_type": "markdown",
      "source": [
        "### 1.2.2 가장 간단한 방법: 알고리즘이 되어보기\n",
        "\n",
        "#### 단순한 문장\n",
        "#### 어조\n",
        "#### 구조적인 특징\n"
      ],
      "metadata": {
        "id": "UTmYa0QWyyYf"
      }
    },
    {
      "cell_type": "markdown",
      "source": [
        "### 1.2.3 중간 단계: 경험에서 배우기\n",
        "\n",
        "#### 데이터 셋\n",
        "#### 모델\n",
        "#### 응답속도\n",
        "#### 구현의 용이성"
      ],
      "metadata": {
        "id": "59eGC4zmyybD"
      }
    },
    {
      "cell_type": "markdown",
      "source": [],
      "metadata": {
        "id": "l0Clgb9Oyydd"
      }
    },
    {
      "cell_type": "markdown",
      "source": [],
      "metadata": {
        "id": "CkcGqMdByyf6"
      }
    },
    {
      "cell_type": "markdown",
      "source": [],
      "metadata": {
        "id": "iiyqm79wyyic"
      }
    },
    {
      "cell_type": "markdown",
      "source": [],
      "metadata": {
        "id": "wMyy3N4Iyyk3"
      }
    },
    {
      "cell_type": "markdown",
      "source": [],
      "metadata": {
        "id": "d7_QDQ7gyyoQ"
      }
    }
  ]
}